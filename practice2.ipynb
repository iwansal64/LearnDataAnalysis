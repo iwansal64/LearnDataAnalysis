{
 "cells": [
  {
   "cell_type": "markdown",
   "metadata": {},
   "source": [
    "# Bike Store Sales Data Analysis\n",
    "Data directory: .\\data_samples\\bikes_sales_data.csv"
   ]
  },
  {
   "cell_type": "markdown",
   "metadata": {},
   "source": [
    "# Get Data File and Setup"
   ]
  },
  {
   "cell_type": "code",
   "execution_count": 2,
   "metadata": {},
   "outputs": [
    {
     "name": "stdout",
     "output_type": "stream",
     "text": [
      ".\\data_samples\\bikes_sales_data.csv\n"
     ]
    }
   ],
   "source": [
    "data_directory = \".\\\\data_samples\\\\bikes_sales_data.csv\"\n",
    "print(data_directory)\n",
    "min_year = 2013\n",
    "max_year = 2025"
   ]
  },
  {
   "cell_type": "markdown",
   "metadata": {},
   "source": [
    "# STEP 1: Data Gathering\n",
    "#### (Get the data as source)"
   ]
  },
  {
   "cell_type": "code",
   "execution_count": 3,
   "metadata": {},
   "outputs": [
    {
     "name": "stdout",
     "output_type": "stream",
     "text": [
      "<class 'pandas.core.frame.DataFrame'>\n",
      "RangeIndex: 113036 entries, 0 to 113035\n",
      "Data columns (total 18 columns):\n",
      " #   Column            Non-Null Count   Dtype         \n",
      "---  ------            --------------   -----         \n",
      " 0   Date              113036 non-null  datetime64[ns]\n",
      " 1   Day               113036 non-null  int64         \n",
      " 2   Month             113036 non-null  object        \n",
      " 3   Year              113036 non-null  int64         \n",
      " 4   Customer_Age      113036 non-null  int64         \n",
      " 5   Age_Group         113036 non-null  object        \n",
      " 6   Customer_Gender   113036 non-null  object        \n",
      " 7   Country           113036 non-null  object        \n",
      " 8   State             113036 non-null  object        \n",
      " 9   Product_Category  113036 non-null  object        \n",
      " 10  Sub_Category      113036 non-null  object        \n",
      " 11  Product           113036 non-null  object        \n",
      " 12  Order_Quantity    113036 non-null  int64         \n",
      " 13  Unit_Cost         113036 non-null  int64         \n",
      " 14  Unit_Price        113036 non-null  int64         \n",
      " 15  Profit            113036 non-null  int64         \n",
      " 16  Cost              113036 non-null  int64         \n",
      " 17  Revenue           113036 non-null  int64         \n",
      "dtypes: datetime64[ns](1), int64(9), object(8)\n",
      "memory usage: 15.5+ MB\n"
     ]
    }
   ],
   "source": [
    "import pandas\n",
    "\n",
    "data_source = pandas.read_csv(data_directory, parse_dates=[\"Date\"])\n",
    "data_source.info()"
   ]
  },
  {
   "cell_type": "markdown",
   "metadata": {},
   "source": [
    "(+) Printing Data"
   ]
  },
  {
   "cell_type": "code",
   "execution_count": 4,
   "metadata": {},
   "outputs": [
    {
     "data": {
      "text/html": [
       "<div>\n",
       "<style scoped>\n",
       "    .dataframe tbody tr th:only-of-type {\n",
       "        vertical-align: middle;\n",
       "    }\n",
       "\n",
       "    .dataframe tbody tr th {\n",
       "        vertical-align: top;\n",
       "    }\n",
       "\n",
       "    .dataframe thead th {\n",
       "        text-align: right;\n",
       "    }\n",
       "</style>\n",
       "<table border=\"1\" class=\"dataframe\">\n",
       "  <thead>\n",
       "    <tr style=\"text-align: right;\">\n",
       "      <th></th>\n",
       "      <th>Date</th>\n",
       "      <th>Day</th>\n",
       "      <th>Month</th>\n",
       "      <th>Year</th>\n",
       "      <th>Customer_Age</th>\n",
       "      <th>Age_Group</th>\n",
       "      <th>Customer_Gender</th>\n",
       "      <th>Country</th>\n",
       "      <th>State</th>\n",
       "      <th>Product_Category</th>\n",
       "      <th>Sub_Category</th>\n",
       "      <th>Product</th>\n",
       "      <th>Order_Quantity</th>\n",
       "      <th>Unit_Cost</th>\n",
       "      <th>Unit_Price</th>\n",
       "      <th>Profit</th>\n",
       "      <th>Cost</th>\n",
       "      <th>Revenue</th>\n",
       "    </tr>\n",
       "  </thead>\n",
       "  <tbody>\n",
       "    <tr>\n",
       "      <th>0</th>\n",
       "      <td>2013-11-26</td>\n",
       "      <td>26</td>\n",
       "      <td>November</td>\n",
       "      <td>2013</td>\n",
       "      <td>19</td>\n",
       "      <td>Youth (&lt;25)</td>\n",
       "      <td>M</td>\n",
       "      <td>Canada</td>\n",
       "      <td>British Columbia</td>\n",
       "      <td>Accessories</td>\n",
       "      <td>Bike Racks</td>\n",
       "      <td>Hitch Rack - 4-Bike</td>\n",
       "      <td>8</td>\n",
       "      <td>45</td>\n",
       "      <td>120</td>\n",
       "      <td>590</td>\n",
       "      <td>360</td>\n",
       "      <td>950</td>\n",
       "    </tr>\n",
       "    <tr>\n",
       "      <th>1</th>\n",
       "      <td>2015-11-26</td>\n",
       "      <td>26</td>\n",
       "      <td>November</td>\n",
       "      <td>2015</td>\n",
       "      <td>19</td>\n",
       "      <td>Youth (&lt;25)</td>\n",
       "      <td>M</td>\n",
       "      <td>Canada</td>\n",
       "      <td>British Columbia</td>\n",
       "      <td>Accessories</td>\n",
       "      <td>Bike Racks</td>\n",
       "      <td>Hitch Rack - 4-Bike</td>\n",
       "      <td>8</td>\n",
       "      <td>45</td>\n",
       "      <td>120</td>\n",
       "      <td>590</td>\n",
       "      <td>360</td>\n",
       "      <td>950</td>\n",
       "    </tr>\n",
       "    <tr>\n",
       "      <th>2</th>\n",
       "      <td>2014-03-23</td>\n",
       "      <td>23</td>\n",
       "      <td>March</td>\n",
       "      <td>2014</td>\n",
       "      <td>49</td>\n",
       "      <td>Adults (35-64)</td>\n",
       "      <td>M</td>\n",
       "      <td>Australia</td>\n",
       "      <td>New South Wales</td>\n",
       "      <td>Accessories</td>\n",
       "      <td>Bike Racks</td>\n",
       "      <td>Hitch Rack - 4-Bike</td>\n",
       "      <td>23</td>\n",
       "      <td>45</td>\n",
       "      <td>120</td>\n",
       "      <td>1366</td>\n",
       "      <td>1035</td>\n",
       "      <td>2401</td>\n",
       "    </tr>\n",
       "  </tbody>\n",
       "</table>\n",
       "</div>"
      ],
      "text/plain": [
       "        Date  Day     Month  Year  Customer_Age       Age_Group  \\\n",
       "0 2013-11-26   26  November  2013            19     Youth (<25)   \n",
       "1 2015-11-26   26  November  2015            19     Youth (<25)   \n",
       "2 2014-03-23   23     March  2014            49  Adults (35-64)   \n",
       "\n",
       "  Customer_Gender    Country             State Product_Category Sub_Category  \\\n",
       "0               M     Canada  British Columbia      Accessories   Bike Racks   \n",
       "1               M     Canada  British Columbia      Accessories   Bike Racks   \n",
       "2               M  Australia   New South Wales      Accessories   Bike Racks   \n",
       "\n",
       "               Product  Order_Quantity  Unit_Cost  Unit_Price  Profit  Cost  \\\n",
       "0  Hitch Rack - 4-Bike               8         45         120     590   360   \n",
       "1  Hitch Rack - 4-Bike               8         45         120     590   360   \n",
       "2  Hitch Rack - 4-Bike              23         45         120    1366  1035   \n",
       "\n",
       "   Revenue  \n",
       "0      950  \n",
       "1      950  \n",
       "2     2401  "
      ]
     },
     "execution_count": 4,
     "metadata": {},
     "output_type": "execute_result"
    }
   ],
   "source": [
    "data_source.head(3)"
   ]
  },
  {
   "cell_type": "markdown",
   "metadata": {},
   "source": [
    "# STEP 2: Data Cleaning\n",
    "### (Removes all unnecessary key)\n",
    "Get Only:\n",
    "- Year\n",
    "- Product\n",
    "- Profit (sum of the specific year and product)"
   ]
  },
  {
   "cell_type": "code",
   "execution_count": 5,
   "metadata": {},
   "outputs": [
    {
     "data": {
      "text/html": [
       "<div>\n",
       "<style scoped>\n",
       "    .dataframe tbody tr th:only-of-type {\n",
       "        vertical-align: middle;\n",
       "    }\n",
       "\n",
       "    .dataframe tbody tr th {\n",
       "        vertical-align: top;\n",
       "    }\n",
       "\n",
       "    .dataframe thead th {\n",
       "        text-align: right;\n",
       "    }\n",
       "</style>\n",
       "<table border=\"1\" class=\"dataframe\">\n",
       "  <thead>\n",
       "    <tr style=\"text-align: right;\">\n",
       "      <th></th>\n",
       "      <th></th>\n",
       "      <th>Profit</th>\n",
       "    </tr>\n",
       "    <tr>\n",
       "      <th>Year</th>\n",
       "      <th>Product</th>\n",
       "      <th></th>\n",
       "    </tr>\n",
       "  </thead>\n",
       "  <tbody>\n",
       "    <tr>\n",
       "      <th rowspan=\"5\" valign=\"top\">2013</th>\n",
       "      <th>AWC Logo Cap</th>\n",
       "      <td>16712</td>\n",
       "    </tr>\n",
       "    <tr>\n",
       "      <th>All-Purpose Bike Stand</th>\n",
       "      <td>55456</td>\n",
       "    </tr>\n",
       "    <tr>\n",
       "      <th>Bike Wash - Dissolver</th>\n",
       "      <td>25121</td>\n",
       "    </tr>\n",
       "    <tr>\n",
       "      <th>Classic Vest, L</th>\n",
       "      <td>33778</td>\n",
       "    </tr>\n",
       "    <tr>\n",
       "      <th>Classic Vest, M</th>\n",
       "      <td>41782</td>\n",
       "    </tr>\n",
       "    <tr>\n",
       "      <th>...</th>\n",
       "      <th>...</th>\n",
       "      <td>...</td>\n",
       "    </tr>\n",
       "    <tr>\n",
       "      <th rowspan=\"5\" valign=\"top\">2016</th>\n",
       "      <th>Touring-3000 Yellow, 62</th>\n",
       "      <td>4914</td>\n",
       "    </tr>\n",
       "    <tr>\n",
       "      <th>Water Bottle - 30 oz.</th>\n",
       "      <td>119141</td>\n",
       "    </tr>\n",
       "    <tr>\n",
       "      <th>Women's Mountain Shorts, L</th>\n",
       "      <td>75159</td>\n",
       "    </tr>\n",
       "    <tr>\n",
       "      <th>Women's Mountain Shorts, M</th>\n",
       "      <td>86370</td>\n",
       "    </tr>\n",
       "    <tr>\n",
       "      <th>Women's Mountain Shorts, S</th>\n",
       "      <td>90778</td>\n",
       "    </tr>\n",
       "  </tbody>\n",
       "</table>\n",
       "<p>520 rows × 1 columns</p>\n",
       "</div>"
      ],
      "text/plain": [
       "                                 Profit\n",
       "Year Product                           \n",
       "2013 AWC Logo Cap                 16712\n",
       "     All-Purpose Bike Stand       55456\n",
       "     Bike Wash - Dissolver        25121\n",
       "     Classic Vest, L              33778\n",
       "     Classic Vest, M              41782\n",
       "...                                 ...\n",
       "2016 Touring-3000 Yellow, 62       4914\n",
       "     Water Bottle - 30 oz.       119141\n",
       "     Women's Mountain Shorts, L   75159\n",
       "     Women's Mountain Shorts, M   86370\n",
       "     Women's Mountain Shorts, S   90778\n",
       "\n",
       "[520 rows x 1 columns]"
      ]
     },
     "execution_count": 5,
     "metadata": {},
     "output_type": "execute_result"
    }
   ],
   "source": [
    "import matplotlib.pyplot as plt\n",
    "cleaned_data_source = data_source[[\"Year\", \"Product\", \"Profit\"]].loc[data_source[\"Year\"] >= 2013]\n",
    "cleaned_data_source_processed = cleaned_data_source.groupby([\"Year\", \"Product\"]).agg({\"Profit\": \"sum\"})\n",
    "cleaned_data_source_processed"
   ]
  },
  {
   "cell_type": "markdown",
   "metadata": {},
   "source": [
    "# STEP 3: Data Wrangling\n",
    "### (Change how data looks as needed)"
   ]
  },
  {
   "cell_type": "markdown",
   "metadata": {},
   "source": [
    "(+) Get the grouped data by product and sum of all profit of the product and sort it by profit descending\n",
    "\n",
    "This is used for below code"
   ]
  },
  {
   "cell_type": "code",
   "execution_count": 6,
   "metadata": {},
   "outputs": [
    {
     "data": {
      "text/html": [
       "<div>\n",
       "<style scoped>\n",
       "    .dataframe tbody tr th:only-of-type {\n",
       "        vertical-align: middle;\n",
       "    }\n",
       "\n",
       "    .dataframe tbody tr th {\n",
       "        vertical-align: top;\n",
       "    }\n",
       "\n",
       "    .dataframe thead th {\n",
       "        text-align: right;\n",
       "    }\n",
       "</style>\n",
       "<table border=\"1\" class=\"dataframe\">\n",
       "  <thead>\n",
       "    <tr style=\"text-align: right;\">\n",
       "      <th></th>\n",
       "      <th>Profit</th>\n",
       "      <th>Order_Quantity</th>\n",
       "      <th>Customer_Age</th>\n",
       "    </tr>\n",
       "    <tr>\n",
       "      <th>Product</th>\n",
       "      <th></th>\n",
       "      <th></th>\n",
       "      <th></th>\n",
       "    </tr>\n",
       "  </thead>\n",
       "  <tbody>\n",
       "    <tr>\n",
       "      <th>Sport-100 Helmet, Red</th>\n",
       "      <td>1191402</td>\n",
       "      <td>63663</td>\n",
       "      <td>35.0</td>\n",
       "    </tr>\n",
       "    <tr>\n",
       "      <th>Sport-100 Helmet, Black</th>\n",
       "      <td>1141330</td>\n",
       "      <td>62105</td>\n",
       "      <td>35.0</td>\n",
       "    </tr>\n",
       "    <tr>\n",
       "      <th>Sport-100 Helmet, Blue</th>\n",
       "      <td>1048446</td>\n",
       "      <td>55895</td>\n",
       "      <td>36.0</td>\n",
       "    </tr>\n",
       "    <tr>\n",
       "      <th>Mountain-200 Black, 38</th>\n",
       "      <td>1034996</td>\n",
       "      <td>1289</td>\n",
       "      <td>33.0</td>\n",
       "    </tr>\n",
       "    <tr>\n",
       "      <th>Mountain-200 Silver, 42</th>\n",
       "      <td>977687</td>\n",
       "      <td>1150</td>\n",
       "      <td>35.0</td>\n",
       "    </tr>\n",
       "    <tr>\n",
       "      <th>...</th>\n",
       "      <td>...</td>\n",
       "      <td>...</td>\n",
       "      <td>...</td>\n",
       "    </tr>\n",
       "    <tr>\n",
       "      <th>Mountain-500 Silver, 52</th>\n",
       "      <td>14948</td>\n",
       "      <td>77</td>\n",
       "      <td>32.0</td>\n",
       "    </tr>\n",
       "    <tr>\n",
       "      <th>Touring-3000 Blue, 50</th>\n",
       "      <td>13424</td>\n",
       "      <td>70</td>\n",
       "      <td>33.0</td>\n",
       "    </tr>\n",
       "    <tr>\n",
       "      <th>Mountain-500 Silver, 48</th>\n",
       "      <td>8176</td>\n",
       "      <td>43</td>\n",
       "      <td>38.0</td>\n",
       "    </tr>\n",
       "    <tr>\n",
       "      <th>Mountain-500 Black, 52</th>\n",
       "      <td>5240</td>\n",
       "      <td>29</td>\n",
       "      <td>33.0</td>\n",
       "    </tr>\n",
       "    <tr>\n",
       "      <th>Road-650 Red, 52</th>\n",
       "      <td>3635</td>\n",
       "      <td>23</td>\n",
       "      <td>30.0</td>\n",
       "    </tr>\n",
       "  </tbody>\n",
       "</table>\n",
       "<p>130 rows × 3 columns</p>\n",
       "</div>"
      ],
      "text/plain": [
       "                          Profit  Order_Quantity  Customer_Age\n",
       "Product                                                       \n",
       "Sport-100 Helmet, Red    1191402           63663          35.0\n",
       "Sport-100 Helmet, Black  1141330           62105          35.0\n",
       "Sport-100 Helmet, Blue   1048446           55895          36.0\n",
       "Mountain-200 Black, 38   1034996            1289          33.0\n",
       "Mountain-200 Silver, 42   977687            1150          35.0\n",
       "...                          ...             ...           ...\n",
       "Mountain-500 Silver, 52    14948              77          32.0\n",
       "Touring-3000 Blue, 50      13424              70          33.0\n",
       "Mountain-500 Silver, 48     8176              43          38.0\n",
       "Mountain-500 Black, 52      5240              29          33.0\n",
       "Road-650 Red, 52            3635              23          30.0\n",
       "\n",
       "[130 rows x 3 columns]"
      ]
     },
     "execution_count": 6,
     "metadata": {},
     "output_type": "execute_result"
    }
   ],
   "source": [
    "# data_source.groupby(\"Product\")[\"Profit\"].sum().sort_values().plot.bar(x=\"Product\", y=\"Profit\", width=0.5, figsize=(30, 5))\n",
    "year_limited_data_source = data_source.loc[(lambda df: (df['Year'] >= min_year) & (df['Year'] <= max_year))]\n",
    "grouped_data_source = year_limited_data_source.groupby(\"Product\").agg({\"Profit\": \"sum\", \"Order_Quantity\": \"sum\", \"Customer_Age\": \"median\"}).sort_values(\"Profit\", ascending=False)\n",
    "grouped_data_source"
   ]
  },
  {
   "cell_type": "markdown",
   "metadata": {},
   "source": [
    "(+) Specify What Products You Want To Analyze\n",
    "\n",
    "I want to specify three highest profit product"
   ]
  },
  {
   "cell_type": "code",
   "execution_count": 25,
   "metadata": {},
   "outputs": [
    {
     "data": {
      "text/plain": [
       "['Mountain-200 Black, 38',\n",
       " 'Mountain-200 Silver, 42',\n",
       " 'Mountain-200 Silver, 38']"
      ]
     },
     "execution_count": 25,
     "metadata": {},
     "output_type": "execute_result"
    }
   ],
   "source": [
    "products_name = grouped_data_source.index.tolist()[3:6]\n",
    "products_name"
   ]
  },
  {
   "cell_type": "markdown",
   "metadata": {},
   "source": [
    "# STEP 4: Data Analyzing\n",
    "### (Analyze and Visualize data so that we can get some insights from it)"
   ]
  },
  {
   "cell_type": "markdown",
   "metadata": {},
   "source": [
    "(+) Create a subplots from data that we want to see (which is the selected product data)"
   ]
  },
  {
   "cell_type": "code",
   "execution_count": 26,
   "metadata": {},
   "outputs": [
    {
     "data": {
      "text/plain": [
       "<matplotlib.legend.Legend at 0x1b44ed0bfb0>"
      ]
     },
     "execution_count": 26,
     "metadata": {},
     "output_type": "execute_result"
    },
    {
     "data": {
      "image/png": "[encoded data removed]",
      "text/plain": [
       "<Figure size 2000x500 with 1 Axes>"
      ]
     },
     "metadata": {},
     "output_type": "display_data"
    }
   ],
   "source": [
    "fig, ax = plt.subplots()\n",
    "for product_name in products_name:\n",
    "    new_data_source = cleaned_data_source.loc[data_source[\"Product\"] == product_name].groupby(\"Year\")[\"Profit\"].sum()\n",
    "    new_data_source.plot(kind=\"line\", x=\"Year\", y=\"Profit\", ax=ax, figsize=(20, 5))\n",
    "ax.legend(products_name)"
   ]
  },
  {
   "cell_type": "markdown",
   "metadata": {},
   "source": [
    "# STEP 5: Storytelling\n",
    "### (Gives a brief explanation about what insight that we got and plan for the future)"
   ]
  },
  {
   "cell_type": "code",
   "execution_count": 27,
   "metadata": {},
   "outputs": [
    {
     "name": "stdout",
     "output_type": "stream",
     "text": [
      "Mountain-200 Black, 38 will go low, don't invest!\n",
      "Mountain-200 Silver, 42 will go low, don't invest!\n",
      "Mountain-200 Silver, 38 will go low, don't invest!\n"
     ]
    }
   ],
   "source": [
    "for product_name in products_name:\n",
    "    profits = [int(i) for i in list(cleaned_data_source.loc[data_source[\"Product\"] == product_name].groupby(\"Year\")[\"Profit\"].sum().values)]\n",
    "    if profits[-1] > profits[-2]:\n",
    "        print(f\"{product_name} will go high next year fr!\")\n",
    "    else:\n",
    "        print(f\"{product_name} will go low, don't invest!\")"
   ]
  }
 ],
 "metadata": {
  "kernelspec": {
   "display_name": "venv",
   "language": "python",
   "name": "python3"
  },
  "language_info": {
   "codemirror_mode": {
    "name": "ipython",
    "version": 3
   },
   "file_extension": ".py",
   "mimetype": "text/x-python",
   "name": "python",
   "nbconvert_exporter": "python",
   "pygments_lexer": "ipython3",
   "version": "3.12.6"
  }
 },
 "nbformat": 4,
 "nbformat_minor": 2
}
