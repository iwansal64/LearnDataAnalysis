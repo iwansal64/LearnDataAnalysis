{
 "cells": [
  {
   "cell_type": "markdown",
   "metadata": {},
   "source": [
    "# Bike Store Sales Data Analysis\n",
    "Data directory: .\\data_samples\\bikes_sales_data.csv"
   ]
  },
  {
   "cell_type": "markdown",
   "metadata": {},
   "source": [
    "# Get Data File"
   ]
  },
  {
   "cell_type": "code",
   "execution_count": 5,
   "metadata": {},
   "outputs": [
    {
     "name": "stdout",
     "output_type": "stream",
     "text": [
      ".\\data_samples\\bikes_sales_data.csv\n"
     ]
    }
   ],
   "source": [
    "data_directory = \".\\\\data_samples\\\\bikes_sales_data.csv\"\n",
    "print(data_directory)"
   ]
  },
  {
   "cell_type": "markdown",
   "metadata": {},
   "source": [
    "# STEP 1: Data Gathering"
   ]
  },
  {
   "cell_type": "code",
   "execution_count": 6,
   "metadata": {},
   "outputs": [],
   "source": [
    "import pandas\n",
    "\n",
    "data_source = pandas.read_csv(data_directory, parse_dates=[\"Date\"])"
   ]
  },
  {
   "cell_type": "code",
   "execution_count": 43,
   "metadata": {},
   "outputs": [
    {
     "name": "stdout",
     "output_type": "stream",
     "text": [
      "<class 'pandas.core.frame.DataFrame'>\n",
      "Index: 1220 entries, 0 to 112864\n",
      "Data columns (total 18 columns):\n",
      " #   Column            Non-Null Count  Dtype         \n",
      "---  ------            --------------  -----         \n",
      " 0   Date              1220 non-null   datetime64[ns]\n",
      " 1   Day               1220 non-null   int64         \n",
      " 2   Month             1220 non-null   object        \n",
      " 3   Year              1220 non-null   int64         \n",
      " 4   Customer_Age      1220 non-null   int64         \n",
      " 5   Age_Group         1220 non-null   object        \n",
      " 6   Customer_Gender   1220 non-null   object        \n",
      " 7   Country           1220 non-null   object        \n",
      " 8   State             1220 non-null   object        \n",
      " 9   Product_Category  1220 non-null   object        \n",
      " 10  Sub_Category      1220 non-null   object        \n",
      " 11  Product           1220 non-null   object        \n",
      " 12  Order_Quantity    1220 non-null   int64         \n",
      " 13  Unit_Cost         1220 non-null   int64         \n",
      " 14  Unit_Price        1220 non-null   int64         \n",
      " 15  Profit            1220 non-null   int64         \n",
      " 16  Cost              1220 non-null   int64         \n",
      " 17  Revenue           1220 non-null   int64         \n",
      "dtypes: datetime64[ns](1), int64(9), object(8)\n",
      "memory usage: 181.1+ KB\n"
     ]
    }
   ],
   "source": [
    "data_source.loc[(data_source[\"Customer_Age\"] < 20) & (data_source[\"Year\"] == 2013)].info()"
   ]
  },
  {
   "cell_type": "code",
   "execution_count": null,
   "metadata": {},
   "outputs": [],
   "source": [
    "import matplotlib.pyplot as plt\n",
    "\n",
    "data_source.loc[(data_source[\"Customer_Age\"] < 20) & (data_source[\"Year\"] == 2013)].plot.scatter(\"Month\", \"Profit\")\n",
    "plt.show()"
   ]
  },
  {
   "cell_type": "code",
   "execution_count": null,
   "metadata": {},
   "outputs": [],
   "source": []
  },
  {
   "cell_type": "markdown",
   "metadata": {},
   "source": [
    "# STEP 2: Data Cleansing"
   ]
  },
  {
   "cell_type": "code",
   "execution_count": 50,
   "metadata": {},
   "outputs": [
    {
     "data": {
      "text/plain": [
       "Unit_Cost     30506\n",
       "Revenue      549220\n",
       "Cost         471212\n",
       "Name: AWC Logo Cap, dtype: int64"
      ]
     },
     "execution_count": 50,
     "metadata": {},
     "output_type": "execute_result"
    }
   ],
   "source": [
    "result = data_source.groupby(by=\"Product\").agg({\"Unit_Cost\": \"sum\", \"Revenue\": \"sum\", \"Cost\": \"sum\"})\n",
    "result.loc[\"AWC Logo Cap\"]"
   ]
  }
 ],
 "metadata": {
  "kernelspec": {
   "display_name": "venv",
   "language": "python",
   "name": "python3"
  },
  "language_info": {
   "codemirror_mode": {
    "name": "ipython",
    "version": 3
   },
   "file_extension": ".py",
   "mimetype": "text/x-python",
   "name": "python",
   "nbconvert_exporter": "python",
   "pygments_lexer": "ipython3",
   "version": "3.12.6"
  }
 },
 "nbformat": 4,
 "nbformat_minor": 2
}
